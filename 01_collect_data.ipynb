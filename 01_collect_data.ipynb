{
 "cells": [
  {
   "cell_type": "code",
   "execution_count": null,
   "metadata": {},
   "outputs": [],
   "source": [
    "\"\"\" preparatory block \"\"\"\n",
    "import pandas as pd\n",
    "\n",
    "import common"
   ]
  },
  {
   "cell_type": "markdown",
   "metadata": {},
   "source": [
    "## 1. Load the collected data into pandas-friendly data structures.\n",
    "\n",
    "The Excel spreadsheet contains many sheets, each with one participant's data.\n",
    "For these analyses, all trials will be loaded into a single dataframe."
   ]
  },
  {
   "cell_type": "code",
   "execution_count": null,
   "metadata": {},
   "outputs": [],
   "source": [
    "def pid_from_sheet(sheet):\n",
    "    \"\"\" Pull characters from sheet name before the first hyphen. \"\"\"\n",
    "    return sheet[: sheet.find('-')]\n",
    "\n",
    "def row_is_data(neutral, hitmiss):\n",
    "    \"\"\" Return True if row contains raw data. \"\"\"\n",
    "    if str(hitmiss).lower().strip(\"\\\"\").strip(\"'\") in ['hit', 'miss']:\n",
    "        try:\n",
    "            return 1000 < int(neutral) < 9999\n",
    "        except TypeError:\n",
    "            return False\n",
    "    return False\n",
    "\n",
    "def row_is_meta(neutral, hitrate):\n",
    "    \"\"\" Return True if the row contains metadata. \"\"\"\n",
    "    if str(neutral).lower() in ['session', 'participant', ]:\n",
    "        return True\n",
    "    if 'anxiety' in str(hitrate).lower():\n",
    "        return True\n",
    "    if 'rate' in str(hitrate).lower():\n",
    "        return True\n",
    "    return False\n",
    "\n",
    "def meta_in_row(row):\n",
    "    \"\"\" Return one metadata (key, value) tuple from one row, with py-friendly naming \"\"\"\n",
    "    if 'hit rate' in str(row[6]).lower():\n",
    "        try:\n",
    "            return ('xl_hit_rate', float(row[7]))\n",
    "        except ValueError:\n",
    "            return ('xl_hit_rate', 0.0)\n",
    "    elif 'state anxiety' in str(row[6]).lower():\n",
    "        try:\n",
    "            return ('state_anxiety', int(row[7]))\n",
    "        except ValueError:\n",
    "            return ('state_anxiety', 0)\n",
    "    elif 'trait anxiety' in str(row[6]).lower():\n",
    "        try:\n",
    "            return ('trait_anxiety', int(row[7]))\n",
    "        except ValueError:\n",
    "            return ('trait_anxiety', 0)\n",
    "    elif str(row[1]) in ['session', 'participant', ]:\n",
    "        return (str(row[1]).lower(), str(row[2]))\n",
    "    return None\n",
    "\n",
    "def meta_from_df(df, sheet):\n",
    "    \"\"\" Extract meta-data from the dataframe, return it as a dict. \"\"\"\n",
    "    meta_dict = {'sheet': sheet[: -4], 'pid': pid_from_sheet(sheet)}\n",
    "    if str(df.columns[5]).lower() == 'hit rate':\n",
    "        # For most sheets, meta 'Hit Rate' is embedded in the top row as a column header.\n",
    "        # but this check is necessary because exactly one sheet moves it down a row. :(\n",
    "        meta_dict['xl_hit_rate'] = float(df.columns[6])\n",
    "    # after harvesting the Hit Rate value, rename it so it can act as an actual column name.\n",
    "    df = df.rename({df.columns[6]: 'score'}, axis='columns')\n",
    "    for row in df.itertuples():\n",
    "        k, v = meta_in_row(row)\n",
    "        meta_dict[k] = v\n",
    "    return meta_dict\n",
    "\n",
    "def harvest_sheets(xlf):\n",
    "    \"\"\" Pull data from each sheet in sheets, return two dataframes. \"\"\"\n",
    "    dataframes = []\n",
    "    metadicts = []\n",
    "    cols_to_keep = ['Hit_Miss_raw', 'MaskedStim_raw', 'RT_raw', 'choice_raw', 'neutral']\n",
    "    df_sex = None\n",
    "    \n",
    "    xl = pd.ExcelFile(xlf)\n",
    "    print(\"{} data sheets were found\".format(len(xl.sheet_names)))\n",
    "    \n",
    "    for i, sheet in enumerate(xl.sheet_names):\n",
    "        if sheet.endswith(\".tsv\"):\n",
    "            # Each tsv sheet contains complete results for each of 36 trials per participant\n",
    "            pid = pid_from_sheet(sheet)\n",
    "            print(\"  {:03}. loading {} from sheet '{}'\".format(i + 1, pid, sheet))\n",
    "            df = pd.read_excel(xlf, sheet)\n",
    "            df['sheet'] = sheet[: -4]\n",
    "            df['pid'] = pid\n",
    "            df['datetime'] = sheet[sheet.find('-') + 1: -4]\n",
    "            # The dataframe, df, has everything from the excel sheet, keep the raw data in df_data\n",
    "            df_data = df[df.apply(lambda x: row_is_data(x[0], x[1]), axis=1)]\n",
    "            dataframes.append(df_data[['sheet', 'pid', 'datetime', ] + cols_to_keep])\n",
    "            # The dataframe, df, has everything from the excel sheet, keep the meta-data in df_meta\n",
    "            df_meta = df[df.apply(lambda x: row_is_meta(x[0], x[5]), axis=1)]\n",
    "            metadicts.append(meta_from_df(df_meta, sheet))\n",
    "        elif sheet == \"Gender\":\n",
    "            # This sheet appears to be the only place with sex information for all participants\n",
    "            print(\"  {:03}. loading sex data from sheet '{}'\".format(i + 1, sheet))\n",
    "            df = pd.read_excel('data.xlsx', 'Gender')\n",
    "            df_sex_f = df[['Female', ]].reindex()\n",
    "            df_sex_f.columns = ['pid', ]\n",
    "            df_sex_f['sex'] = 'F'\n",
    "            df_sex_m = df[['Male', ]].reindex()\n",
    "            df_sex_m.columns = ['pid', ]\n",
    "            df_sex_m['sex'] = 'M'\n",
    "            df_sex = pd.concat([df_sex_f.dropna(axis=0), df_sex_m.dropna(axis=0), ], axis=0).reindex()\n",
    "            df_sex['sheet'] = df_sex['pid'].apply(lambda x: x[: -4])\n",
    "            df_sex = df_sex.set_index('sheet')[['sex', ]]\n",
    "            # Remove the duplicate sheet name entered twice in the Excel 'Gender' sheet.\n",
    "            df_sex = df_sex[~df_sex.index.duplicated()]\n",
    "        else:\n",
    "            print(\"       ignoring sheet {}\".format(sheet))\n",
    "    \n",
    "    df_meta = pd.concat([pd.DataFrame(metadicts).set_index('sheet'), df_sex, ], axis=1, sort=True)\n",
    "    df_data = pd.concat(dataframes).reindex()\n",
    "    print(\"{} data sheets loaded; {} participants found; {:,} trials.\".format(\n",
    "        len(xl.sheet_names), df_meta.shape[0], df_data.shape[0]\n",
    "    ))\n",
    "    \n",
    "    return df_meta, df_data"
   ]
  },
  {
   "cell_type": "code",
   "execution_count": null,
   "metadata": {},
   "outputs": [],
   "source": [
    "\"\"\" Read the Excel file and collect most of its data. \n",
    "    Save raw-data and meta-data out to separate tsv files.\n",
    "\"\"\"\n",
    "df_meta, df_data = harvest_sheets(common.source_file)\n",
    "\n",
    "df_meta.to_csv(common.meta_file, sep=\"\\t\")\n",
    "df_data.to_csv(common.data_file, index_label=\"sequence\", sep=\"\\t\")"
   ]
  },
  {
   "cell_type": "code",
   "execution_count": null,
   "metadata": {},
   "outputs": [],
   "source": [
    "# Sanity check\n",
    "df_meta.sample(8)"
   ]
  },
  {
   "cell_type": "code",
   "execution_count": null,
   "metadata": {},
   "outputs": [],
   "source": [
    "# Sanity check\n",
    "df_data.sample(8)"
   ]
  },
  {
   "cell_type": "code",
   "execution_count": null,
   "metadata": {},
   "outputs": [],
   "source": [
    "# Error check - We need to drop these from sex comparisons if we do not know the sex.\n",
    "df_meta[df_meta.isna().any(axis=1)]"
   ]
  },
  {
   "cell_type": "code",
   "execution_count": null,
   "metadata": {},
   "outputs": [],
   "source": [
    "# Error check - We only kept actual data, so probably fine here.\n",
    "df_data[df_data.isna().any(axis=1)]"
   ]
  },
  {
   "cell_type": "code",
   "execution_count": null,
   "metadata": {},
   "outputs": [],
   "source": [
    "df_sex_f\n"
   ]
  },
  {
   "cell_type": "code",
   "execution_count": null,
   "metadata": {},
   "outputs": [],
   "source": []
  }
 ],
 "metadata": {
  "kernelspec": {
   "display_name": "arora-precog",
   "language": "python",
   "name": "arora-precog"
  },
  "language_info": {
   "codemirror_mode": {
    "name": "ipython",
    "version": 3
   },
   "file_extension": ".py",
   "mimetype": "text/x-python",
   "name": "python",
   "nbconvert_exporter": "python",
   "pygments_lexer": "ipython3",
   "version": "3.6.8"
  }
 },
 "nbformat": 4,
 "nbformat_minor": 2
}
