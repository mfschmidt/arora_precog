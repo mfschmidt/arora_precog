{
 "cells": [
  {
   "cell_type": "markdown",
   "metadata": {},
   "source": [
    "## Summarize the data scraped from the excel workbook, and check it against previously calculated metadata."
   ]
  },
  {
   "cell_type": "code",
   "execution_count": null,
   "metadata": {},
   "outputs": [],
   "source": [
    "import os\n",
    "import pandas as pd  # for data storage and manipulation\n",
    "import seaborn as sns  # for plotting\n",
    "\n",
    "# common.py is a local file with shared constants\n",
    "import common"
   ]
  },
  {
   "cell_type": "code",
   "execution_count": null,
   "metadata": {},
   "outputs": [],
   "source": [
    "comments = {}  # Log any comments through processing and report them all at the end.\n",
    "\n",
    "def safe_load(f):\n",
    "    if os.path.isfile(f):\n",
    "        df = pd.read_csv(f, sep='\\t', index_col=0)\n",
    "        print(\"read {:,} records from {}\".format(len(df.index), f))\n",
    "    else:\n",
    "        print(\"01_collect_data.ipynb needs to be run before any analyses.\")\n",
    "    return df\n",
    "\n",
    "data = safe_load(common.data_file)\n",
    "meta = safe_load(common.meta_file)"
   ]
  },
  {
   "cell_type": "markdown",
   "metadata": {},
   "source": [
    "### Calculate hit rates and compare with those in Excel"
   ]
  },
  {
   "cell_type": "code",
   "execution_count": null,
   "metadata": {},
   "outputs": [],
   "source": [
    "\"\"\" Aggregate the hits and misses, by sheet, to facilitate calculating a hit rate. \"\"\"\n",
    "\n",
    "df_hitmiss = pd.crosstab(data['sheet'], data['Hit_Miss_raw'])\n",
    "meta['py_hit_rate'] = df_hitmiss['\\'Hit\\''] / (df_hitmiss['\\'Miss\\''] + df_hitmiss['\\'Hit\\''])\n",
    "meta.to_csv(common.meta_file, sep=\"\\t\")"
   ]
  },
  {
   "cell_type": "code",
   "execution_count": null,
   "metadata": {},
   "outputs": [],
   "source": [
    "\"\"\" Find and report any differences between my calculations and those in the Excel workbook. \"\"\"\n",
    "\n",
    "df_diffs = meta[meta['xl_hit_rate'] != meta['py_hit_rate']]\n",
    "comment = \"I checked that my calculated hit rates match the Excel hit rates. \"\n",
    "comment += \"{} hit rate{} differed: \".format(\n",
    "    len(df_diffs), \"s\" if len(df_diffs.index) > 1 else \"\"\n",
    ")\n",
    "for diff in df_diffs.itertuples():\n",
    "    comment += \"{} reported {:.2%}; I calculated {:.2%}. \".format(\n",
    "        getattr(diff, 'Index'), getattr(diff, 'xl_hit_rate'), getattr(diff, 'py_hit_rate')\n",
    "    )\n",
    "comment += \"The excel sheet formula excluded one 'Hit' cell, reducing the hit rate. \"\n",
    "comment += \"This notebook therefore seems to be accurate, even though it differs from the spreadsheet.\"\n",
    "comments['hit rates'] = comment"
   ]
  },
  {
   "cell_type": "code",
   "execution_count": null,
   "metadata": {},
   "outputs": [],
   "source": [
    "\"\"\" Print out any comments accumulated while running the notebook. \"\"\"\n",
    "print(\"## Comments\")\n",
    "for section in ['hit rates', ]:\n",
    "    print(\"\\n### {}\\n\".format(section))\n",
    "    print(comments[section])"
   ]
  },
  {
   "cell_type": "code",
   "execution_count": null,
   "metadata": {},
   "outputs": [],
   "source": [
    "df_hitmiss.sample(4)"
   ]
  },
  {
   "cell_type": "code",
   "execution_count": null,
   "metadata": {},
   "outputs": [],
   "source": [
    "meta.sample(4)"
   ]
  },
  {
   "cell_type": "code",
   "execution_count": null,
   "metadata": {},
   "outputs": [],
   "source": [
    "# Our parametric statistics all assume our results are normally distributed, among other things. Are they?\n",
    "# Colors and color palettes are defined in common.py\n",
    "p = sns.distplot(meta['py_hit_rate'], hist=True, bins=15, color='gray')\n",
    "p = sns.kdeplot(meta[meta['sex'] == 'M']['py_hit_rate'], color=common.bluish, label=\"male\", shade=True, ax=p)\n",
    "p = sns.kdeplot(meta[meta['sex'] == 'F']['py_hit_rate'], color=common.reddish, label=\"female\", shade=True, ax=p)\n",
    "\n",
    "print(\"Seems symmetrical and roughly normal. But is there a bimodal distribution?\")\n",
    "p.get_figure().savefig('hit_rate_distribution.png')"
   ]
  },
  {
   "cell_type": "code",
   "execution_count": null,
   "metadata": {},
   "outputs": [],
   "source": [
    "# Another way to look at the same data, nothing new, and perhaps harder to see\n",
    "p = sns.boxplot(x='py_hit_rate', y='sex', data=meta, palette=common.light_palette)\n",
    "p = sns.swarmplot(x='py_hit_rate', y='sex', data=meta, palette=common.dark_palette, ax=p)"
   ]
  }
 ],
 "metadata": {
  "kernelspec": {
   "display_name": "arora-precog",
   "language": "python",
   "name": "arora-precog"
  },
  "language_info": {
   "codemirror_mode": {
    "name": "ipython",
    "version": 3
   },
   "file_extension": ".py",
   "mimetype": "text/x-python",
   "name": "python",
   "nbconvert_exporter": "python",
   "pygments_lexer": "ipython3",
   "version": "3.6.8"
  }
 },
 "nbformat": 4,
 "nbformat_minor": 2
}
