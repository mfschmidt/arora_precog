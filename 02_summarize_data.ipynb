{
 "cells": [
  {
   "cell_type": "markdown",
   "metadata": {},
   "source": [
    "## Summarize the data scraped from the excel workbook, and check it against previously calculated metadata."
   ]
  },
  {
   "cell_type": "code",
   "execution_count": 1,
   "metadata": {},
   "outputs": [],
   "source": [
    "import os\n",
    "import pandas as pd  # for data storage and manipulation\n",
    "import seaborn as sns  # for plotting\n",
    "\n",
    "# common.py is a local file with shared constants\n",
    "import common"
   ]
  },
  {
   "cell_type": "code",
   "execution_count": 2,
   "metadata": {},
   "outputs": [
    {
     "name": "stdout",
     "output_type": "stream",
     "text": [
      "read 5,220 records from data.tsv\n",
      "read 145 records from meta.tsv\n"
     ]
    }
   ],
   "source": [
    "comments = {}  # Log any comments through processing and report them all at the end.\n",
    "\n",
    "def safe_load(f):\n",
    "    if os.path.isfile(f):\n",
    "        df = pd.read_csv(f, sep='\\t', index_col=0)\n",
    "        print(\"read {:,} records from {}\".format(len(df.index), f))\n",
    "    else:\n",
    "        print(\"01_collect_data.ipynb needs to be run before any analyses.\")\n",
    "    return df\n",
    "\n",
    "data = safe_load(common.data_file)\n",
    "meta = safe_load(common.meta_file)"
   ]
  },
  {
   "cell_type": "markdown",
   "metadata": {},
   "source": [
    "### Calculate hit rates and compare with those in Excel"
   ]
  },
  {
   "cell_type": "code",
   "execution_count": 3,
   "metadata": {},
   "outputs": [],
   "source": [
    "\"\"\" Aggregate the hits and misses, by sheet, to facilitate calculating a hit rate. \"\"\"\n",
    "\n",
    "df_hitmiss = pd.crosstab(data['sheet'], data['Hit_Miss_raw'])\n",
    "meta['py_hit_rate'] = df_hitmiss['\\'Hit\\''] / (df_hitmiss['\\'Miss\\''] + df_hitmiss['\\'Hit\\''])\n",
    "meta.to_csv(common.meta_file, sep=\"\\t\")"
   ]
  },
  {
   "cell_type": "code",
   "execution_count": 4,
   "metadata": {},
   "outputs": [
    {
     "name": "stdout",
     "output_type": "stream",
     "text": [
      "Checking that python-calculated hit rates match Excel hit rates. 1 hit rate differed: ys00-09-22-2016-15-12 reported 58.33%; I calculated 61.11%. The excel sheet formula excluded one 'Hit' cell, reducing the hit rate. This notebook therefore seems accurate, although it differs from the spreadsheet.\n"
     ]
    }
   ],
   "source": [
    "\"\"\" Find and report any differences between my calculations and those in the Excel workbook. \"\"\"\n",
    "\n",
    "df_diffs = meta[meta['xl_hit_rate'] != meta['py_hit_rate']]\n",
    "comments = [\"Checking that python-calculated hit rates match Excel hit rates.\", ]\n",
    "comments.append(\"{} hit rate{} differed:\".format(\n",
    "    len(df_diffs), \"s\" if len(df_diffs.index) > 1 else \"\"\n",
    "))\n",
    "for diff in df_diffs.itertuples():\n",
    "    comments.append(\"{} reported {:.2%}; I calculated {:.2%}.\".format(\n",
    "        getattr(diff, 'Index'), getattr(diff, 'xl_hit_rate'), getattr(diff, 'py_hit_rate')\n",
    "    ))\n",
    "comments.append(\"The excel sheet formula excluded one 'Hit' cell, reducing the hit rate.\")\n",
    "comments.append(\"This notebook therefore seems accurate, although it differs from the spreadsheet.\")\n",
    "print(\" \".join(comments))"
   ]
  },
  {
   "cell_type": "code",
   "execution_count": 5,
   "metadata": {},
   "outputs": [
    {
     "data": {
      "text/html": [
       "<div>\n",
       "<style scoped>\n",
       "    .dataframe tbody tr th:only-of-type {\n",
       "        vertical-align: middle;\n",
       "    }\n",
       "\n",
       "    .dataframe tbody tr th {\n",
       "        vertical-align: top;\n",
       "    }\n",
       "\n",
       "    .dataframe thead th {\n",
       "        text-align: right;\n",
       "    }\n",
       "</style>\n",
       "<table border=\"1\" class=\"dataframe\">\n",
       "  <thead>\n",
       "    <tr style=\"text-align: right;\">\n",
       "      <th>Hit_Miss_raw</th>\n",
       "      <th>'Hit'</th>\n",
       "      <th>'Miss'</th>\n",
       "    </tr>\n",
       "    <tr>\n",
       "      <th>sheet</th>\n",
       "      <th></th>\n",
       "      <th></th>\n",
       "    </tr>\n",
       "  </thead>\n",
       "  <tbody>\n",
       "    <tr>\n",
       "      <td>jg00-01-18-2018-10-48</td>\n",
       "      <td>23</td>\n",
       "      <td>13</td>\n",
       "    </tr>\n",
       "    <tr>\n",
       "      <td>sy98-10-05-2016-09-46</td>\n",
       "      <td>17</td>\n",
       "      <td>19</td>\n",
       "    </tr>\n",
       "    <tr>\n",
       "      <td>ns00-01-18-2018-10-44</td>\n",
       "      <td>20</td>\n",
       "      <td>16</td>\n",
       "    </tr>\n",
       "    <tr>\n",
       "      <td>js01-05-18-2016-15-23</td>\n",
       "      <td>22</td>\n",
       "      <td>14</td>\n",
       "    </tr>\n",
       "  </tbody>\n",
       "</table>\n",
       "</div>"
      ],
      "text/plain": [
       "Hit_Miss_raw           'Hit'  'Miss'\n",
       "sheet                               \n",
       "jg00-01-18-2018-10-48     23      13\n",
       "sy98-10-05-2016-09-46     17      19\n",
       "ns00-01-18-2018-10-44     20      16\n",
       "js01-05-18-2016-15-23     22      14"
      ]
     },
     "execution_count": 5,
     "metadata": {},
     "output_type": "execute_result"
    }
   ],
   "source": [
    "df_hitmiss.sample(4)"
   ]
  },
  {
   "cell_type": "code",
   "execution_count": 6,
   "metadata": {},
   "outputs": [
    {
     "data": {
      "text/html": [
       "<div>\n",
       "<style scoped>\n",
       "    .dataframe tbody tr th:only-of-type {\n",
       "        vertical-align: middle;\n",
       "    }\n",
       "\n",
       "    .dataframe tbody tr th {\n",
       "        vertical-align: top;\n",
       "    }\n",
       "\n",
       "    .dataframe thead th {\n",
       "        text-align: right;\n",
       "    }\n",
       "</style>\n",
       "<table border=\"1\" class=\"dataframe\">\n",
       "  <thead>\n",
       "    <tr style=\"text-align: right;\">\n",
       "      <th></th>\n",
       "      <th>pid</th>\n",
       "      <th>xl_hit_rate</th>\n",
       "      <th>state_anxiety</th>\n",
       "      <th>trait_anxiety</th>\n",
       "      <th>session</th>\n",
       "      <th>participant</th>\n",
       "      <th>sex</th>\n",
       "      <th>py_hit_rate</th>\n",
       "    </tr>\n",
       "  </thead>\n",
       "  <tbody>\n",
       "    <tr>\n",
       "      <td>dc00-10-04-2016-15-09</td>\n",
       "      <td>dc00</td>\n",
       "      <td>0.527778</td>\n",
       "      <td>49</td>\n",
       "      <td>43</td>\n",
       "      <td>1</td>\n",
       "      <td>dc00</td>\n",
       "      <td>F</td>\n",
       "      <td>0.527778</td>\n",
       "    </tr>\n",
       "    <tr>\n",
       "      <td>js02-01-18-2018-13-32</td>\n",
       "      <td>js02</td>\n",
       "      <td>0.444444</td>\n",
       "      <td>40</td>\n",
       "      <td>49</td>\n",
       "      <td>1</td>\n",
       "      <td>js02</td>\n",
       "      <td>M</td>\n",
       "      <td>0.444444</td>\n",
       "    </tr>\n",
       "    <tr>\n",
       "      <td>sp98-10-05-2016-09-47</td>\n",
       "      <td>sp98</td>\n",
       "      <td>0.694444</td>\n",
       "      <td>43</td>\n",
       "      <td>43</td>\n",
       "      <td>1</td>\n",
       "      <td>sp98</td>\n",
       "      <td>F</td>\n",
       "      <td>0.694444</td>\n",
       "    </tr>\n",
       "    <tr>\n",
       "      <td>kp01-01-18-2018-13-33</td>\n",
       "      <td>kp01</td>\n",
       "      <td>0.472222</td>\n",
       "      <td>23</td>\n",
       "      <td>25</td>\n",
       "      <td>1</td>\n",
       "      <td>kp01</td>\n",
       "      <td>M</td>\n",
       "      <td>0.472222</td>\n",
       "    </tr>\n",
       "  </tbody>\n",
       "</table>\n",
       "</div>"
      ],
      "text/plain": [
       "                        pid  xl_hit_rate  state_anxiety  trait_anxiety  \\\n",
       "dc00-10-04-2016-15-09  dc00     0.527778             49             43   \n",
       "js02-01-18-2018-13-32  js02     0.444444             40             49   \n",
       "sp98-10-05-2016-09-47  sp98     0.694444             43             43   \n",
       "kp01-01-18-2018-13-33  kp01     0.472222             23             25   \n",
       "\n",
       "                       session participant sex  py_hit_rate  \n",
       "dc00-10-04-2016-15-09        1        dc00   F     0.527778  \n",
       "js02-01-18-2018-13-32        1        js02   M     0.444444  \n",
       "sp98-10-05-2016-09-47        1        sp98   F     0.694444  \n",
       "kp01-01-18-2018-13-33        1        kp01   M     0.472222  "
      ]
     },
     "execution_count": 6,
     "metadata": {},
     "output_type": "execute_result"
    }
   ],
   "source": [
    "meta.sample(4)"
   ]
  },
  {
   "cell_type": "code",
   "execution_count": 7,
   "metadata": {},
   "outputs": [
    {
     "name": "stdout",
     "output_type": "stream",
     "text": [
      "Seems symmetrical and roughly normal. But is there a bimodal distribution?\n"
     ]
    },
    {
     "data": {
      "image/png": "[encoded data removed]",
      "text/plain": [
       "<Figure size 432x288 with 1 Axes>"
      ]
     },
     "metadata": {
      "needs_background": "light"
     },
     "output_type": "display_data"
    }
   ],
   "source": [
    "# Our parametric statistics all assume our results are normally distributed, among other things. Are they?\n",
    "# Colors and color palettes are defined in common.py\n",
    "p = sns.distplot(meta['py_hit_rate'], hist=True, bins=15, color='gray')\n",
    "p = sns.kdeplot(meta[meta['sex'] == 'M']['py_hit_rate'], color=common.bluish, label=\"male\", shade=True, ax=p)\n",
    "p = sns.kdeplot(meta[meta['sex'] == 'F']['py_hit_rate'], color=common.reddish, label=\"female\", shade=True, ax=p)\n",
    "\n",
    "print(\"Seems symmetrical and roughly normal. But is there a bimodal distribution?\")\n",
    "p.get_figure().savefig('hit_rate_distribution.png')"
   ]
  },
  {
   "cell_type": "code",
   "execution_count": 8,
   "metadata": {},
   "outputs": [
    {
     "data": {
      "image/png": "[encoded data removed]",
      "text/plain": [
       "<Figure size 432x288 with 1 Axes>"
      ]
     },
     "metadata": {
      "needs_background": "light"
     },
     "output_type": "display_data"
    }
   ],
   "source": [
    "# Another way to look at the same data, nothing new, and perhaps harder to see\n",
    "p = sns.boxplot(x='py_hit_rate', y='sex', data=meta, palette=common.light_palette)\n",
    "p = sns.swarmplot(x='py_hit_rate', y='sex', data=meta, palette=common.dark_palette, ax=p)"
   ]
  }
 ],
 "metadata": {
  "kernelspec": {
   "display_name": "arora_precog",
   "language": "python",
   "name": "arora_precog"
  },
  "language_info": {
   "codemirror_mode": {
    "name": "ipython",
    "version": 3
   },
   "file_extension": ".py",
   "mimetype": "text/x-python",
   "name": "python",
   "nbconvert_exporter": "python",
   "pygments_lexer": "ipython3",
   "version": "3.7.1"
  }
 },
 "nbformat": 4,
 "nbformat_minor": 4
}
