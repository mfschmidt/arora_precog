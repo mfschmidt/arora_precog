{
 "cells": [
  {
   "cell_type": "markdown",
   "metadata": {},
   "source": [
    "## Summarize the data scraped from the excel workbook, and check it against previously calculated metadata."
   ]
  },
  {
   "cell_type": "code",
   "execution_count": 1,
   "metadata": {},
   "outputs": [],
   "source": [
    "import os\n",
    "import pandas as pd  # for data storage and manipulation\n",
    "import seaborn as sns  # for plotting\n",
    "\n",
    "# common.py is a local file with shared constants\n",
    "import common"
   ]
  },
  {
   "cell_type": "code",
   "execution_count": 2,
   "metadata": {},
   "outputs": [
    {
     "name": "stdout",
     "output_type": "stream",
     "text": [
      "read 5,220 records from data.tsv\n",
      "read 145 records from meta.tsv\n"
     ]
    }
   ],
   "source": [
    "comments = {}  # Log any comments through processing and report them all at the end.\n",
    "\n",
    "def safe_load(f):\n",
    "    if os.path.isfile(f):\n",
    "        df = pd.read_csv(f, sep='\\t', index_col=0)\n",
    "        print(\"read {:,} records from {}\".format(len(df.index), f))\n",
    "    else:\n",
    "        print(\"01_collect_data.ipynb needs to be run before any analyses.\")\n",
    "    return df\n",
    "\n",
    "data = safe_load(common.data_file)\n",
    "meta = safe_load(common.meta_file)"
   ]
  },
  {
   "cell_type": "markdown",
   "metadata": {},
   "source": [
    "### Calculate hit rates and compare with those in Excel"
   ]
  },
  {
   "cell_type": "code",
   "execution_count": 3,
   "metadata": {},
   "outputs": [],
   "source": [
    "\"\"\" Aggregate the hits and misses, by sheet, to facilitate calculating a hit rate. \"\"\"\n",
    "\n",
    "df_hitmiss = pd.crosstab(data['sheet'], data['Hit_Miss_raw'])\n",
    "meta['py_hit_rate'] = df_hitmiss['\\'Hit\\''] / (df_hitmiss['\\'Miss\\''] + df_hitmiss['\\'Hit\\''])\n",
    "meta.to_csv(common.meta_file, sep=\"\\t\")"
   ]
  },
  {
   "cell_type": "code",
   "execution_count": 4,
   "metadata": {},
   "outputs": [
    {
     "name": "stdout",
     "output_type": "stream",
     "text": [
      "Checking that python-calculated hit rates match Excel hit rates. 1 hit rate differed: ys00-09-22-2016-15-12 reported 58.33%; I calculated 61.11%. The excel sheet formula excluded one 'Hit' cell, reducing the hit rate. This notebook therefore seems accurate, although it differs from the spreadsheet.\n"
     ]
    }
   ],
   "source": [
    "\"\"\" Find and report any differences between my calculations and those in the Excel workbook. \"\"\"\n",
    "\n",
    "df_diffs = meta[meta['xl_hit_rate'] != meta['py_hit_rate']]\n",
    "comments = [\"Checking that python-calculated hit rates match Excel hit rates.\", ]\n",
    "comments.append(\"{} hit rate{} differed:\".format(\n",
    "    len(df_diffs), \"s\" if len(df_diffs.index) > 1 else \"\"\n",
    "))\n",
    "for diff in df_diffs.itertuples():\n",
    "    comments.append(\"{} reported {:.2%}; I calculated {:.2%}.\".format(\n",
    "        getattr(diff, 'Index'), getattr(diff, 'xl_hit_rate'), getattr(diff, 'py_hit_rate')\n",
    "    ))\n",
    "comments.append(\"The excel sheet formula excluded one 'Hit' cell, reducing the hit rate.\")\n",
    "comments.append(\"This notebook therefore seems accurate, although it differs from the spreadsheet.\")\n",
    "print(\" \".join(comments))"
   ]
  },
  {
   "cell_type": "code",
   "execution_count": 5,
   "metadata": {},
   "outputs": [
    {
     "data": {
      "text/html": [
       "<div>\n",
       "<style scoped>\n",
       "    .dataframe tbody tr th:only-of-type {\n",
       "        vertical-align: middle;\n",
       "    }\n",
       "\n",
       "    .dataframe tbody tr th {\n",
       "        vertical-align: top;\n",
       "    }\n",
       "\n",
       "    .dataframe thead th {\n",
       "        text-align: right;\n",
       "    }\n",
       "</style>\n",
       "<table border=\"1\" class=\"dataframe\">\n",
       "  <thead>\n",
       "    <tr style=\"text-align: right;\">\n",
       "      <th>Hit_Miss_raw</th>\n",
       "      <th>'Hit'</th>\n",
       "      <th>'Miss'</th>\n",
       "    </tr>\n",
       "    <tr>\n",
       "      <th>sheet</th>\n",
       "      <th></th>\n",
       "      <th></th>\n",
       "    </tr>\n",
       "  </thead>\n",
       "  <tbody>\n",
       "    <tr>\n",
       "      <th>ab02-08-15-2018-13-11</th>\n",
       "      <td>19</td>\n",
       "      <td>17</td>\n",
       "    </tr>\n",
       "    <tr>\n",
       "      <th>jb99-10-18-2016-15-03</th>\n",
       "      <td>18</td>\n",
       "      <td>18</td>\n",
       "    </tr>\n",
       "    <tr>\n",
       "      <th>vm99-05-24-2016-13-54</th>\n",
       "      <td>20</td>\n",
       "      <td>16</td>\n",
       "    </tr>\n",
       "    <tr>\n",
       "      <th>ra01-06-09-2016-12-22</th>\n",
       "      <td>14</td>\n",
       "      <td>22</td>\n",
       "    </tr>\n",
       "  </tbody>\n",
       "</table>\n",
       "</div>"
      ],
      "text/plain": [
       "Hit_Miss_raw           'Hit'  'Miss'\n",
       "sheet                               \n",
       "ab02-08-15-2018-13-11     19      17\n",
       "jb99-10-18-2016-15-03     18      18\n",
       "vm99-05-24-2016-13-54     20      16\n",
       "ra01-06-09-2016-12-22     14      22"
      ]
     },
     "execution_count": 5,
     "metadata": {},
     "output_type": "execute_result"
    }
   ],
   "source": [
    "df_hitmiss.sample(4)"
   ]
  },
  {
   "cell_type": "code",
   "execution_count": 6,
   "metadata": {},
   "outputs": [
    {
     "data": {
      "text/html": [
       "<div>\n",
       "<style scoped>\n",
       "    .dataframe tbody tr th:only-of-type {\n",
       "        vertical-align: middle;\n",
       "    }\n",
       "\n",
       "    .dataframe tbody tr th {\n",
       "        vertical-align: top;\n",
       "    }\n",
       "\n",
       "    .dataframe thead th {\n",
       "        text-align: right;\n",
       "    }\n",
       "</style>\n",
       "<table border=\"1\" class=\"dataframe\">\n",
       "  <thead>\n",
       "    <tr style=\"text-align: right;\">\n",
       "      <th></th>\n",
       "      <th>pid</th>\n",
       "      <th>xl_hit_rate</th>\n",
       "      <th>state_anxiety</th>\n",
       "      <th>trait_anxiety</th>\n",
       "      <th>session</th>\n",
       "      <th>participant</th>\n",
       "      <th>sex</th>\n",
       "      <th>py_hit_rate</th>\n",
       "    </tr>\n",
       "    <tr>\n",
       "      <th>sheet</th>\n",
       "      <th></th>\n",
       "      <th></th>\n",
       "      <th></th>\n",
       "      <th></th>\n",
       "      <th></th>\n",
       "      <th></th>\n",
       "      <th></th>\n",
       "      <th></th>\n",
       "    </tr>\n",
       "  </thead>\n",
       "  <tbody>\n",
       "    <tr>\n",
       "      <th>ad99-05-24-2016-15-59</th>\n",
       "      <td>ad99</td>\n",
       "      <td>0.583333</td>\n",
       "      <td>35</td>\n",
       "      <td>31</td>\n",
       "      <td>1</td>\n",
       "      <td>ad99</td>\n",
       "      <td>M</td>\n",
       "      <td>0.583333</td>\n",
       "    </tr>\n",
       "    <tr>\n",
       "      <th>mm00-01-18-2018-12-08</th>\n",
       "      <td>mm00</td>\n",
       "      <td>0.500000</td>\n",
       "      <td>22</td>\n",
       "      <td>31</td>\n",
       "      <td>1</td>\n",
       "      <td>mm00</td>\n",
       "      <td>F</td>\n",
       "      <td>0.500000</td>\n",
       "    </tr>\n",
       "    <tr>\n",
       "      <th>zl98-10-18-2016-09-47</th>\n",
       "      <td>zl98</td>\n",
       "      <td>0.500000</td>\n",
       "      <td>35</td>\n",
       "      <td>42</td>\n",
       "      <td>1</td>\n",
       "      <td>zl98</td>\n",
       "      <td>M</td>\n",
       "      <td>0.500000</td>\n",
       "    </tr>\n",
       "    <tr>\n",
       "      <th>ms00-01-18-2018-10-59</th>\n",
       "      <td>ms00</td>\n",
       "      <td>0.527778</td>\n",
       "      <td>28</td>\n",
       "      <td>28</td>\n",
       "      <td>1</td>\n",
       "      <td>ms00</td>\n",
       "      <td>F</td>\n",
       "      <td>0.527778</td>\n",
       "    </tr>\n",
       "  </tbody>\n",
       "</table>\n",
       "</div>"
      ],
      "text/plain": [
       "                        pid  xl_hit_rate  state_anxiety  trait_anxiety  \\\n",
       "sheet                                                                    \n",
       "ad99-05-24-2016-15-59  ad99     0.583333             35             31   \n",
       "mm00-01-18-2018-12-08  mm00     0.500000             22             31   \n",
       "zl98-10-18-2016-09-47  zl98     0.500000             35             42   \n",
       "ms00-01-18-2018-10-59  ms00     0.527778             28             28   \n",
       "\n",
       "                       session participant sex  py_hit_rate  \n",
       "sheet                                                        \n",
       "ad99-05-24-2016-15-59        1        ad99   M     0.583333  \n",
       "mm00-01-18-2018-12-08        1        mm00   F     0.500000  \n",
       "zl98-10-18-2016-09-47        1        zl98   M     0.500000  \n",
       "ms00-01-18-2018-10-59        1        ms00   F     0.527778  "
      ]
     },
     "execution_count": 6,
     "metadata": {},
     "output_type": "execute_result"
    }
   ],
   "source": [
    "meta.sample(4)"
   ]
  },
  {
   "cell_type": "code",
   "execution_count": 7,
   "metadata": {},
   "outputs": [
    {
     "name": "stdout",
     "output_type": "stream",
     "text": [
      "Seems symmetrical and roughly normal. But is there a bimodal distribution?\n"
     ]
    },
    {
     "data": {
      "image/png": "[encoded data removed]",
      "text/plain": [
       "<Figure size 432x288 with 1 Axes>"
      ]
     },
     "metadata": {
      "needs_background": "light"
     },
     "output_type": "display_data"
    }
   ],
   "source": [
    "# Our parametric statistics all assume our results are normally distributed, among other things. Are they?\n",
    "# Colors and color palettes are defined in common.py\n",
    "p = sns.histplot(meta['py_hit_rate'], bins=15, kde=True, stat=\"density\", linewidth=0, color='gray')\n",
    "p = sns.kdeplot(meta[meta['sex'] == 'M']['py_hit_rate'], color=common.bluish, label=\"male\", shade=True, ax=p)\n",
    "p = sns.kdeplot(meta[meta['sex'] == 'F']['py_hit_rate'], color=common.reddish, label=\"female\", shade=True, ax=p)\n",
    "\n",
    "print(\"Seems symmetrical and roughly normal. But is there a bimodal distribution?\")\n",
    "p.get_figure().savefig('hit_rate_distribution.png')"
   ]
  },
  {
   "cell_type": "code",
   "execution_count": 8,
   "metadata": {},
   "outputs": [
    {
     "data": {
      "image/png": "[encoded data removed]",
      "text/plain": [
       "<Figure size 432x288 with 1 Axes>"
      ]
     },
     "metadata": {
      "needs_background": "light"
     },
     "output_type": "display_data"
    }
   ],
   "source": [
    "# Another way to look at the same data, nothing new, and perhaps harder to see\n",
    "p = sns.boxplot(x='py_hit_rate', y='sex', data=meta, palette=common.light_palette)\n",
    "p = sns.swarmplot(x='py_hit_rate', y='sex', data=meta, palette=common.dark_palette, ax=p)"
   ]
  }
 ],
 "metadata": {
  "kernelspec": {
   "display_name": "Python 3 (ipykernel)",
   "language": "python",
   "name": "python3"
  },
  "language_info": {
   "codemirror_mode": {
    "name": "ipython",
    "version": 3
   },
   "file_extension": ".py",
   "mimetype": "text/x-python",
   "name": "python",
   "nbconvert_exporter": "python",
   "pygments_lexer": "ipython3",
   "version": "3.10.4"
  }
 },
 "nbformat": 4,
 "nbformat_minor": 4
}
